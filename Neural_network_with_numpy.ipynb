{
  "nbformat": 4,
  "nbformat_minor": 0,
  "metadata": {
    "colab": {
      "provenance": [],
      "gpuType": "T4",
      "authorship_tag": "ABX9TyPCpa7stH+xt8b58Gq+nJv9",
      "include_colab_link": true
    },
    "kernelspec": {
      "name": "python3",
      "display_name": "Python 3"
    },
    "language_info": {
      "name": "python"
    },
    "accelerator": "GPU"
  },
  "cells": [
    {
      "cell_type": "markdown",
      "metadata": {
        "id": "view-in-github",
        "colab_type": "text"
      },
      "source": [
        "<a href=\"https://colab.research.google.com/github/doudi25/Neural_Network-with-Numpy/blob/main/Neural_network_with_numpy.ipynb\" target=\"_parent\"><img src=\"https://colab.research.google.com/assets/colab-badge.svg\" alt=\"Open In Colab\"/></a>"
      ]
    },
    {
      "cell_type": "code",
      "execution_count": 1,
      "metadata": {
        "id": "U7wDW9KQ5q2R"
      },
      "outputs": [],
      "source": [
        "import numpy as np\n",
        "import matplotlib.pyplot as plt\n",
        "from keras.datasets import mnist\n"
      ]
    },
    {
      "cell_type": "code",
      "source": [
        "\n",
        "import random\n",
        "class MLP:\n",
        "  def __init__(self,in_dim,hidden_dim,output_dim):\n",
        "    self.in_dim=in_dim\n",
        "    self.hidden_dim=hidden_dim\n",
        "    self.output_dim=output_dim\n",
        "    self.W1=np.random.randn(in_dim,hidden_dim)*5/(3*in_dim)\n",
        "    self.W2=np.random.randn(hidden_dim,2*hidden_dim)*5/(3*hidden_dim)\n",
        "    self.W3=np.random.randn(2*hidden_dim,output_dim)*5/(3*hidden_dim*2)\n",
        "  def __call__(self,X):\n",
        "   # def softmax(data):\n",
        "     # return np.exp(data) / np.expand_dims(np.exp(data).sum(axis=1), axis=1)\n",
        "    assert X.shape[1]==self.W1.shape[0]\n",
        "    self.input=X\n",
        "    hpre=X@self.W1\n",
        "    mean,std=hpre.mean(0),hpre.std(0)\n",
        "    self.hidden_pre=hpre\n",
        "    hpass=(hpre-mean)/std\n",
        "    self.std=std\n",
        "    h=np.tanh(hpass)\n",
        "    self.hidden=h\n",
        "    h2pre=h@self.W2\n",
        "    mean2,std2=h2pre.mean(0),h2pre.std(0)\n",
        "    hpass2=(h2pre-mean2)/std2\n",
        "    self.std2=std2\n",
        "    h2=np.tanh(hpass2)\n",
        "    self.hidden2=h2\n",
        "    logits=h2@self.W3\n",
        "    probs=np.exp(logits)/np.expand_dims(np.sum(np.exp(logits),axis=1),1)\n",
        "    #probs=softmax(logits)\n",
        "    return probs\n",
        "  def fit(self,X,Y,epochs):\n",
        "    m,_=X.shape\n",
        "    def cross_entropy(prob):\n",
        "      proba=self(mini_batch)\n",
        "      loss=proba[range(1200),Y_mini]\n",
        "      likelihood_loss=(-np.log(loss)).mean()\n",
        "      return likelihood_loss\n",
        "    def back_prop(probs):\n",
        "      dlogits=probs\n",
        "      dlogits[range(1200),Y_mini]-=1\n",
        "      dlogits/=1200\n",
        "      dhidden2=dlogits@self.W3.T\n",
        "      dW3=self.hidden2.T@dlogits\n",
        "      dhpre2=dhidden2*(1-self.hidden2**2)/(self.std2)\n",
        "      dW2=self.hidden.T@dhpre2\n",
        "      dhidden=dhpre2@self.W2.T\n",
        "      dhpre=dhidden*(1-self.hidden**2)/(self.std)\n",
        "      dW1=self.input.T@dhpre\n",
        "      return dW3,dW2,dW1\n",
        "    for step in range(epochs+1):\n",
        "      sel=random.randint(1,m-1200)\n",
        "      mini_batch=X[sel:sel+1200]\n",
        "      Y_mini=Y[sel:sel+1200]\n",
        "      probs=self(mini_batch)\n",
        "      dW3,dW2,dW1=back_prop(probs)\n",
        "      map=[dW3,dW2,dW1]\n",
        "      for i,j in enumerate([self.W3,self.W2,self.W1]):\n",
        "        j+=-0.001*map[i]\n",
        "      if step %500==0 :\n",
        "        print(f'Epoch {step} the loss is {cross_entropy(probs):.4f}')\n",
        "\n",
        "\n",
        "\n",
        "\n",
        "\n",
        "\n"
      ],
      "metadata": {
        "id": "KZfoZgWS53mT"
      },
      "execution_count": 2,
      "outputs": []
    }
  ]
}